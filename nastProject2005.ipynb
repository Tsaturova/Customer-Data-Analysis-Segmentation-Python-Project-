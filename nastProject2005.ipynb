{
 "cells": [
  {
   "cell_type": "markdown",
   "id": "a5be16e0-4f8b-49f4-8e6e-c1f94539ec77",
   "metadata": {},
   "source": [
    "!pip install matplotlib seaborn scikit-learn"
   ]
  },
  {
   "cell_type": "code",
   "execution_count": 55,
   "id": "34ff03e0-5844-469f-a2e1-ebfbc5bf191f",
   "metadata": {},
   "outputs": [],
   "source": [
    "import pandas as pd\n",
    "import numpy as np\n",
    "import matplotlib.pyplot as plt\n",
    "import seaborn as sns\n",
    "\n",
    "%matplotlib inline"
   ]
  },
  {
   "cell_type": "code",
   "execution_count": 56,
   "id": "06360b9e-1d10-4aa3-8704-c2d6d9b6b316",
   "metadata": {
    "scrolled": true
   },
   "outputs": [
    {
     "data": {
      "text/html": [
       "<div>\n",
       "<style scoped>\n",
       "    .dataframe tbody tr th:only-of-type {\n",
       "        vertical-align: middle;\n",
       "    }\n",
       "\n",
       "    .dataframe tbody tr th {\n",
       "        vertical-align: top;\n",
       "    }\n",
       "\n",
       "    .dataframe thead th {\n",
       "        text-align: right;\n",
       "    }\n",
       "</style>\n",
       "<table border=\"1\" class=\"dataframe\">\n",
       "  <thead>\n",
       "    <tr style=\"text-align: right;\">\n",
       "      <th></th>\n",
       "      <th>menu_item_id</th>\n",
       "      <th>item_name</th>\n",
       "      <th>category</th>\n",
       "      <th>price</th>\n",
       "    </tr>\n",
       "  </thead>\n",
       "  <tbody>\n",
       "    <tr>\n",
       "      <th>0</th>\n",
       "      <td>101</td>\n",
       "      <td>Hamburger</td>\n",
       "      <td>American</td>\n",
       "      <td>12.95</td>\n",
       "    </tr>\n",
       "    <tr>\n",
       "      <th>1</th>\n",
       "      <td>102</td>\n",
       "      <td>Cheeseburger</td>\n",
       "      <td>American</td>\n",
       "      <td>13.95</td>\n",
       "    </tr>\n",
       "    <tr>\n",
       "      <th>2</th>\n",
       "      <td>103</td>\n",
       "      <td>Hot Dog</td>\n",
       "      <td>American</td>\n",
       "      <td>9.00</td>\n",
       "    </tr>\n",
       "    <tr>\n",
       "      <th>3</th>\n",
       "      <td>104</td>\n",
       "      <td>Veggie Burger</td>\n",
       "      <td>American</td>\n",
       "      <td>10.50</td>\n",
       "    </tr>\n",
       "    <tr>\n",
       "      <th>4</th>\n",
       "      <td>105</td>\n",
       "      <td>Mac &amp; Cheese</td>\n",
       "      <td>American</td>\n",
       "      <td>7.00</td>\n",
       "    </tr>\n",
       "    <tr>\n",
       "      <th>5</th>\n",
       "      <td>106</td>\n",
       "      <td>French Fries</td>\n",
       "      <td>American</td>\n",
       "      <td>7.00</td>\n",
       "    </tr>\n",
       "    <tr>\n",
       "      <th>6</th>\n",
       "      <td>107</td>\n",
       "      <td>Orange Chicken</td>\n",
       "      <td>Asian</td>\n",
       "      <td>16.50</td>\n",
       "    </tr>\n",
       "    <tr>\n",
       "      <th>7</th>\n",
       "      <td>108</td>\n",
       "      <td>Tofu Pad Thai</td>\n",
       "      <td>Asian</td>\n",
       "      <td>14.50</td>\n",
       "    </tr>\n",
       "    <tr>\n",
       "      <th>8</th>\n",
       "      <td>109</td>\n",
       "      <td>Korean Beef Bowl</td>\n",
       "      <td>Asian</td>\n",
       "      <td>17.95</td>\n",
       "    </tr>\n",
       "    <tr>\n",
       "      <th>9</th>\n",
       "      <td>110</td>\n",
       "      <td>Pork Ramen</td>\n",
       "      <td>Asian</td>\n",
       "      <td>17.95</td>\n",
       "    </tr>\n",
       "    <tr>\n",
       "      <th>10</th>\n",
       "      <td>111</td>\n",
       "      <td>California Roll</td>\n",
       "      <td>Asian</td>\n",
       "      <td>11.95</td>\n",
       "    </tr>\n",
       "    <tr>\n",
       "      <th>11</th>\n",
       "      <td>112</td>\n",
       "      <td>Salmon Roll</td>\n",
       "      <td>Asian</td>\n",
       "      <td>14.95</td>\n",
       "    </tr>\n",
       "    <tr>\n",
       "      <th>12</th>\n",
       "      <td>113</td>\n",
       "      <td>Edamame</td>\n",
       "      <td>Asian</td>\n",
       "      <td>5.00</td>\n",
       "    </tr>\n",
       "    <tr>\n",
       "      <th>13</th>\n",
       "      <td>114</td>\n",
       "      <td>Potstickers</td>\n",
       "      <td>Asian</td>\n",
       "      <td>9.00</td>\n",
       "    </tr>\n",
       "    <tr>\n",
       "      <th>14</th>\n",
       "      <td>115</td>\n",
       "      <td>Chicken Tacos</td>\n",
       "      <td>Mexican</td>\n",
       "      <td>11.95</td>\n",
       "    </tr>\n",
       "    <tr>\n",
       "      <th>15</th>\n",
       "      <td>116</td>\n",
       "      <td>Steak Tacos</td>\n",
       "      <td>Mexican</td>\n",
       "      <td>13.95</td>\n",
       "    </tr>\n",
       "    <tr>\n",
       "      <th>16</th>\n",
       "      <td>117</td>\n",
       "      <td>Chicken Burrito</td>\n",
       "      <td>Mexican</td>\n",
       "      <td>12.95</td>\n",
       "    </tr>\n",
       "    <tr>\n",
       "      <th>17</th>\n",
       "      <td>118</td>\n",
       "      <td>Steak Burrito</td>\n",
       "      <td>Mexican</td>\n",
       "      <td>14.95</td>\n",
       "    </tr>\n",
       "    <tr>\n",
       "      <th>18</th>\n",
       "      <td>119</td>\n",
       "      <td>Chicken Torta</td>\n",
       "      <td>Mexican</td>\n",
       "      <td>11.95</td>\n",
       "    </tr>\n",
       "    <tr>\n",
       "      <th>19</th>\n",
       "      <td>120</td>\n",
       "      <td>Steak Torta</td>\n",
       "      <td>Mexican</td>\n",
       "      <td>13.95</td>\n",
       "    </tr>\n",
       "    <tr>\n",
       "      <th>20</th>\n",
       "      <td>121</td>\n",
       "      <td>Cheese Quesadillas</td>\n",
       "      <td>Mexican</td>\n",
       "      <td>10.50</td>\n",
       "    </tr>\n",
       "    <tr>\n",
       "      <th>21</th>\n",
       "      <td>122</td>\n",
       "      <td>Chips &amp; Salsa</td>\n",
       "      <td>Mexican</td>\n",
       "      <td>7.00</td>\n",
       "    </tr>\n",
       "    <tr>\n",
       "      <th>22</th>\n",
       "      <td>123</td>\n",
       "      <td>Chips &amp; Guacamole</td>\n",
       "      <td>Mexican</td>\n",
       "      <td>9.00</td>\n",
       "    </tr>\n",
       "    <tr>\n",
       "      <th>23</th>\n",
       "      <td>124</td>\n",
       "      <td>Spaghetti</td>\n",
       "      <td>Italian</td>\n",
       "      <td>14.50</td>\n",
       "    </tr>\n",
       "    <tr>\n",
       "      <th>24</th>\n",
       "      <td>125</td>\n",
       "      <td>Spaghetti &amp; Meatballs</td>\n",
       "      <td>Italian</td>\n",
       "      <td>17.95</td>\n",
       "    </tr>\n",
       "    <tr>\n",
       "      <th>25</th>\n",
       "      <td>126</td>\n",
       "      <td>Fettuccine Alfredo</td>\n",
       "      <td>Italian</td>\n",
       "      <td>14.50</td>\n",
       "    </tr>\n",
       "    <tr>\n",
       "      <th>26</th>\n",
       "      <td>127</td>\n",
       "      <td>Meat Lasagna</td>\n",
       "      <td>Italian</td>\n",
       "      <td>17.95</td>\n",
       "    </tr>\n",
       "    <tr>\n",
       "      <th>27</th>\n",
       "      <td>128</td>\n",
       "      <td>Cheese Lasagna</td>\n",
       "      <td>Italian</td>\n",
       "      <td>15.50</td>\n",
       "    </tr>\n",
       "    <tr>\n",
       "      <th>28</th>\n",
       "      <td>129</td>\n",
       "      <td>Mushroom Ravioli</td>\n",
       "      <td>Italian</td>\n",
       "      <td>15.50</td>\n",
       "    </tr>\n",
       "    <tr>\n",
       "      <th>29</th>\n",
       "      <td>130</td>\n",
       "      <td>Shrimp Scampi</td>\n",
       "      <td>Italian</td>\n",
       "      <td>19.95</td>\n",
       "    </tr>\n",
       "    <tr>\n",
       "      <th>30</th>\n",
       "      <td>131</td>\n",
       "      <td>Chicken Parmesan</td>\n",
       "      <td>Italian</td>\n",
       "      <td>17.95</td>\n",
       "    </tr>\n",
       "    <tr>\n",
       "      <th>31</th>\n",
       "      <td>132</td>\n",
       "      <td>Eggplant Parmesan</td>\n",
       "      <td>Italian</td>\n",
       "      <td>16.95</td>\n",
       "    </tr>\n",
       "  </tbody>\n",
       "</table>\n",
       "</div>"
      ],
      "text/plain": [
       "    menu_item_id              item_name  category  price\n",
       "0            101              Hamburger  American  12.95\n",
       "1            102           Cheeseburger  American  13.95\n",
       "2            103                Hot Dog  American   9.00\n",
       "3            104          Veggie Burger  American  10.50\n",
       "4            105           Mac & Cheese  American   7.00\n",
       "5            106           French Fries  American   7.00\n",
       "6            107         Orange Chicken     Asian  16.50\n",
       "7            108          Tofu Pad Thai     Asian  14.50\n",
       "8            109       Korean Beef Bowl     Asian  17.95\n",
       "9            110             Pork Ramen     Asian  17.95\n",
       "10           111        California Roll     Asian  11.95\n",
       "11           112            Salmon Roll     Asian  14.95\n",
       "12           113                Edamame     Asian   5.00\n",
       "13           114            Potstickers     Asian   9.00\n",
       "14           115          Chicken Tacos   Mexican  11.95\n",
       "15           116            Steak Tacos   Mexican  13.95\n",
       "16           117        Chicken Burrito   Mexican  12.95\n",
       "17           118          Steak Burrito   Mexican  14.95\n",
       "18           119          Chicken Torta   Mexican  11.95\n",
       "19           120            Steak Torta   Mexican  13.95\n",
       "20           121     Cheese Quesadillas   Mexican  10.50\n",
       "21           122          Chips & Salsa   Mexican   7.00\n",
       "22           123      Chips & Guacamole   Mexican   9.00\n",
       "23           124              Spaghetti   Italian  14.50\n",
       "24           125  Spaghetti & Meatballs   Italian  17.95\n",
       "25           126     Fettuccine Alfredo   Italian  14.50\n",
       "26           127           Meat Lasagna   Italian  17.95\n",
       "27           128         Cheese Lasagna   Italian  15.50\n",
       "28           129       Mushroom Ravioli   Italian  15.50\n",
       "29           130          Shrimp Scampi   Italian  19.95\n",
       "30           131       Chicken Parmesan   Italian  17.95\n",
       "31           132      Eggplant Parmesan   Italian  16.95"
      ]
     },
     "execution_count": 56,
     "metadata": {},
     "output_type": "execute_result"
    }
   ],
   "source": [
    "menu_filepath = r\"C:\\Users\\Anastasia\\Desktop\\Project 3\\popytka3\\menu_items.csv\"\n",
    "\n",
    "menu = pd.read_csv(menu_filepath)\n",
    "menu"
   ]
  },
  {
   "cell_type": "code",
   "execution_count": 57,
   "id": "d7f11a10-5914-4936-b795-262354ee1d75",
   "metadata": {},
   "outputs": [
    {
     "data": {
      "text/html": [
       "<div>\n",
       "<style scoped>\n",
       "    .dataframe tbody tr th:only-of-type {\n",
       "        vertical-align: middle;\n",
       "    }\n",
       "\n",
       "    .dataframe tbody tr th {\n",
       "        vertical-align: top;\n",
       "    }\n",
       "\n",
       "    .dataframe thead th {\n",
       "        text-align: right;\n",
       "    }\n",
       "</style>\n",
       "<table border=\"1\" class=\"dataframe\">\n",
       "  <thead>\n",
       "    <tr style=\"text-align: right;\">\n",
       "      <th></th>\n",
       "      <th>order_details_id</th>\n",
       "      <th>order_id</th>\n",
       "      <th>order_date</th>\n",
       "      <th>order_time</th>\n",
       "      <th>item_id</th>\n",
       "    </tr>\n",
       "  </thead>\n",
       "  <tbody>\n",
       "    <tr>\n",
       "      <th>0</th>\n",
       "      <td>1</td>\n",
       "      <td>1</td>\n",
       "      <td>1/1/23</td>\n",
       "      <td>11:38:36 AM</td>\n",
       "      <td>109.0</td>\n",
       "    </tr>\n",
       "    <tr>\n",
       "      <th>1</th>\n",
       "      <td>2</td>\n",
       "      <td>2</td>\n",
       "      <td>1/1/23</td>\n",
       "      <td>11:57:40 AM</td>\n",
       "      <td>108.0</td>\n",
       "    </tr>\n",
       "    <tr>\n",
       "      <th>2</th>\n",
       "      <td>3</td>\n",
       "      <td>2</td>\n",
       "      <td>1/1/23</td>\n",
       "      <td>11:57:40 AM</td>\n",
       "      <td>124.0</td>\n",
       "    </tr>\n",
       "    <tr>\n",
       "      <th>3</th>\n",
       "      <td>4</td>\n",
       "      <td>2</td>\n",
       "      <td>1/1/23</td>\n",
       "      <td>11:57:40 AM</td>\n",
       "      <td>117.0</td>\n",
       "    </tr>\n",
       "    <tr>\n",
       "      <th>4</th>\n",
       "      <td>5</td>\n",
       "      <td>2</td>\n",
       "      <td>1/1/23</td>\n",
       "      <td>11:57:40 AM</td>\n",
       "      <td>129.0</td>\n",
       "    </tr>\n",
       "    <tr>\n",
       "      <th>...</th>\n",
       "      <td>...</td>\n",
       "      <td>...</td>\n",
       "      <td>...</td>\n",
       "      <td>...</td>\n",
       "      <td>...</td>\n",
       "    </tr>\n",
       "    <tr>\n",
       "      <th>12229</th>\n",
       "      <td>12230</td>\n",
       "      <td>5369</td>\n",
       "      <td>3/31/23</td>\n",
       "      <td>10:05:04 PM</td>\n",
       "      <td>109.0</td>\n",
       "    </tr>\n",
       "    <tr>\n",
       "      <th>12230</th>\n",
       "      <td>12231</td>\n",
       "      <td>5369</td>\n",
       "      <td>3/31/23</td>\n",
       "      <td>10:05:04 PM</td>\n",
       "      <td>129.0</td>\n",
       "    </tr>\n",
       "    <tr>\n",
       "      <th>12231</th>\n",
       "      <td>12232</td>\n",
       "      <td>5369</td>\n",
       "      <td>3/31/23</td>\n",
       "      <td>10:05:04 PM</td>\n",
       "      <td>120.0</td>\n",
       "    </tr>\n",
       "    <tr>\n",
       "      <th>12232</th>\n",
       "      <td>12233</td>\n",
       "      <td>5369</td>\n",
       "      <td>3/31/23</td>\n",
       "      <td>10:05:04 PM</td>\n",
       "      <td>122.0</td>\n",
       "    </tr>\n",
       "    <tr>\n",
       "      <th>12233</th>\n",
       "      <td>12234</td>\n",
       "      <td>5370</td>\n",
       "      <td>3/31/23</td>\n",
       "      <td>10:15:48 PM</td>\n",
       "      <td>122.0</td>\n",
       "    </tr>\n",
       "  </tbody>\n",
       "</table>\n",
       "<p>12234 rows × 5 columns</p>\n",
       "</div>"
      ],
      "text/plain": [
       "       order_details_id  order_id order_date   order_time  item_id\n",
       "0                     1         1     1/1/23  11:38:36 AM    109.0\n",
       "1                     2         2     1/1/23  11:57:40 AM    108.0\n",
       "2                     3         2     1/1/23  11:57:40 AM    124.0\n",
       "3                     4         2     1/1/23  11:57:40 AM    117.0\n",
       "4                     5         2     1/1/23  11:57:40 AM    129.0\n",
       "...                 ...       ...        ...          ...      ...\n",
       "12229             12230      5369    3/31/23  10:05:04 PM    109.0\n",
       "12230             12231      5369    3/31/23  10:05:04 PM    129.0\n",
       "12231             12232      5369    3/31/23  10:05:04 PM    120.0\n",
       "12232             12233      5369    3/31/23  10:05:04 PM    122.0\n",
       "12233             12234      5370    3/31/23  10:15:48 PM    122.0\n",
       "\n",
       "[12234 rows x 5 columns]"
      ]
     },
     "execution_count": 57,
     "metadata": {},
     "output_type": "execute_result"
    }
   ],
   "source": [
    "order_filepath = r\"C:\\Users\\Anastasia\\Desktop\\Project 3\\popytka3\\order_details.csv\"\n",
    "\n",
    "order = pd.read_csv(order_filepath)\n",
    "order"
   ]
  },
  {
   "cell_type": "code",
   "execution_count": 58,
   "id": "ba64bb76-6b98-48be-a953-83e209915ad1",
   "metadata": {},
   "outputs": [
    {
     "data": {
      "text/html": [
       "<div>\n",
       "<style scoped>\n",
       "    .dataframe tbody tr th:only-of-type {\n",
       "        vertical-align: middle;\n",
       "    }\n",
       "\n",
       "    .dataframe tbody tr th {\n",
       "        vertical-align: top;\n",
       "    }\n",
       "\n",
       "    .dataframe thead th {\n",
       "        text-align: right;\n",
       "    }\n",
       "</style>\n",
       "<table border=\"1\" class=\"dataframe\">\n",
       "  <thead>\n",
       "    <tr style=\"text-align: right;\">\n",
       "      <th></th>\n",
       "      <th>Table</th>\n",
       "      <th>Field</th>\n",
       "      <th>Description</th>\n",
       "    </tr>\n",
       "  </thead>\n",
       "  <tbody>\n",
       "    <tr>\n",
       "      <th>0</th>\n",
       "      <td>menu_items</td>\n",
       "      <td>menu_item_id</td>\n",
       "      <td>Unique ID of a menu item</td>\n",
       "    </tr>\n",
       "    <tr>\n",
       "      <th>1</th>\n",
       "      <td>menu_items</td>\n",
       "      <td>item_name</td>\n",
       "      <td>Name of a menu item</td>\n",
       "    </tr>\n",
       "    <tr>\n",
       "      <th>2</th>\n",
       "      <td>menu_items</td>\n",
       "      <td>category</td>\n",
       "      <td>Category or type of cuisine of the menu item</td>\n",
       "    </tr>\n",
       "    <tr>\n",
       "      <th>3</th>\n",
       "      <td>menu_items</td>\n",
       "      <td>price</td>\n",
       "      <td>Price of the menu item (US Dollars $)</td>\n",
       "    </tr>\n",
       "    <tr>\n",
       "      <th>4</th>\n",
       "      <td>order_details</td>\n",
       "      <td>order_details_id</td>\n",
       "      <td>Unique ID of an item in an order</td>\n",
       "    </tr>\n",
       "    <tr>\n",
       "      <th>5</th>\n",
       "      <td>order_details</td>\n",
       "      <td>order_id</td>\n",
       "      <td>ID of an order</td>\n",
       "    </tr>\n",
       "    <tr>\n",
       "      <th>6</th>\n",
       "      <td>order_details</td>\n",
       "      <td>order_date</td>\n",
       "      <td>Date an order was put in (MM/DD/YY)</td>\n",
       "    </tr>\n",
       "    <tr>\n",
       "      <th>7</th>\n",
       "      <td>order_details</td>\n",
       "      <td>order_time</td>\n",
       "      <td>Time an order was put in (HH:MM:SS AM/PM)</td>\n",
       "    </tr>\n",
       "    <tr>\n",
       "      <th>8</th>\n",
       "      <td>order_details</td>\n",
       "      <td>item_id</td>\n",
       "      <td>Matches the menu_item_id in the menu_items table</td>\n",
       "    </tr>\n",
       "  </tbody>\n",
       "</table>\n",
       "</div>"
      ],
      "text/plain": [
       "           Table             Field  \\\n",
       "0     menu_items      menu_item_id   \n",
       "1     menu_items         item_name   \n",
       "2     menu_items          category   \n",
       "3     menu_items             price   \n",
       "4  order_details  order_details_id   \n",
       "5  order_details          order_id   \n",
       "6  order_details        order_date   \n",
       "7  order_details        order_time   \n",
       "8  order_details           item_id   \n",
       "\n",
       "                                        Description  \n",
       "0                          Unique ID of a menu item  \n",
       "1                               Name of a menu item  \n",
       "2      Category or type of cuisine of the menu item  \n",
       "3             Price of the menu item (US Dollars $)  \n",
       "4                  Unique ID of an item in an order  \n",
       "5                                    ID of an order  \n",
       "6               Date an order was put in (MM/DD/YY)  \n",
       "7         Time an order was put in (HH:MM:SS AM/PM)  \n",
       "8  Matches the menu_item_id in the menu_items table  "
      ]
     },
     "execution_count": 58,
     "metadata": {},
     "output_type": "execute_result"
    }
   ],
   "source": [
    "restaurant_filepath = r\"C:\\Users\\Anastasia\\Desktop\\Project 3\\popytka3\\restaurant_db_data_dictionary.csv\"\n",
    "\n",
    "restaurant = pd.read_csv(restaurant_filepath)\n",
    "restaurant"
   ]
  },
  {
   "cell_type": "code",
   "execution_count": 59,
   "id": "37bebab0-f5ec-4ddc-9b93-0af5e71b8f61",
   "metadata": {},
   "outputs": [
    {
     "name": "stdout",
     "output_type": "stream",
     "text": [
      "<class 'pandas.core.frame.DataFrame'>\n",
      "RangeIndex: 32 entries, 0 to 31\n",
      "Data columns (total 4 columns):\n",
      " #   Column        Non-Null Count  Dtype  \n",
      "---  ------        --------------  -----  \n",
      " 0   menu_item_id  32 non-null     int64  \n",
      " 1   item_name     32 non-null     object \n",
      " 2   category      32 non-null     object \n",
      " 3   price         32 non-null     float64\n",
      "dtypes: float64(1), int64(1), object(2)\n",
      "memory usage: 1.1+ KB\n"
     ]
    }
   ],
   "source": [
    "menu.info()"
   ]
  },
  {
   "cell_type": "code",
   "execution_count": 60,
   "id": "a1c063dc-04b7-4e66-9438-5ab487fb0df7",
   "metadata": {},
   "outputs": [
    {
     "name": "stdout",
     "output_type": "stream",
     "text": [
      "<class 'pandas.core.frame.DataFrame'>\n",
      "RangeIndex: 12234 entries, 0 to 12233\n",
      "Data columns (total 5 columns):\n",
      " #   Column            Non-Null Count  Dtype  \n",
      "---  ------            --------------  -----  \n",
      " 0   order_details_id  12234 non-null  int64  \n",
      " 1   order_id          12234 non-null  int64  \n",
      " 2   order_date        12234 non-null  object \n",
      " 3   order_time        12234 non-null  object \n",
      " 4   item_id           12097 non-null  float64\n",
      "dtypes: float64(1), int64(2), object(2)\n",
      "memory usage: 478.0+ KB\n"
     ]
    }
   ],
   "source": [
    "order.info()"
   ]
  },
  {
   "cell_type": "code",
   "execution_count": 61,
   "id": "fab89f3f-4eac-4742-a68b-a68a9013bbb7",
   "metadata": {},
   "outputs": [
    {
     "name": "stderr",
     "output_type": "stream",
     "text": [
      "C:\\Users\\Anastasia\\AppData\\Local\\Temp\\ipykernel_26676\\751995607.py:1: UserWarning: Could not infer format, so each element will be parsed individually, falling back to `dateutil`. To ensure parsing is consistent and as-expected, please specify a format.\n",
      "  order['order_date'] = pd.to_datetime(order['order_date'])\n"
     ]
    }
   ],
   "source": [
    "order['order_date'] = pd.to_datetime(order['order_date'])"
   ]
  },
  {
   "cell_type": "code",
   "execution_count": 62,
   "id": "b4e34df8-3293-42a6-87ff-dee6545dd1b0",
   "metadata": {},
   "outputs": [
    {
     "data": {
      "text/plain": [
       "0   2023-01-01\n",
       "1   2023-01-01\n",
       "2   2023-01-01\n",
       "3   2023-01-01\n",
       "4   2023-01-01\n",
       "Name: order_date, dtype: datetime64[ns]"
      ]
     },
     "execution_count": 62,
     "metadata": {},
     "output_type": "execute_result"
    }
   ],
   "source": [
    "order['order_date'].head()\n"
   ]
  },
  {
   "cell_type": "code",
   "execution_count": 63,
   "id": "ba533ade-74f2-467f-ba98-bf97f6df27c3",
   "metadata": {},
   "outputs": [],
   "source": [
    "order['order_date'] = pd.to_datetime(order['order_date'], format=\"%Y-%m-%d\")"
   ]
  },
  {
   "cell_type": "code",
   "execution_count": 64,
   "id": "11e31e53-7ea8-40bc-bfd0-95994ff84039",
   "metadata": {},
   "outputs": [
    {
     "name": "stdout",
     "output_type": "stream",
     "text": [
      "<class 'pandas.core.frame.DataFrame'>\n",
      "RangeIndex: 12234 entries, 0 to 12233\n",
      "Data columns (total 5 columns):\n",
      " #   Column            Non-Null Count  Dtype         \n",
      "---  ------            --------------  -----         \n",
      " 0   order_details_id  12234 non-null  int64         \n",
      " 1   order_id          12234 non-null  int64         \n",
      " 2   order_date        12234 non-null  datetime64[ns]\n",
      " 3   order_time        12234 non-null  object        \n",
      " 4   item_id           12097 non-null  float64       \n",
      "dtypes: datetime64[ns](1), float64(1), int64(2), object(1)\n",
      "memory usage: 478.0+ KB\n"
     ]
    }
   ],
   "source": [
    "order.info()"
   ]
  },
  {
   "cell_type": "code",
   "execution_count": 65,
   "id": "fac73dcf-1f9f-40f0-96d2-d6d6e2acece2",
   "metadata": {},
   "outputs": [
    {
     "data": {
      "text/plain": [
       "0    11:38:36 AM\n",
       "1    11:57:40 AM\n",
       "2    11:57:40 AM\n",
       "3    11:57:40 AM\n",
       "4    11:57:40 AM\n",
       "Name: order_time, dtype: object"
      ]
     },
     "execution_count": 65,
     "metadata": {},
     "output_type": "execute_result"
    }
   ],
   "source": [
    "order['order_time'].head()"
   ]
  },
  {
   "cell_type": "code",
   "execution_count": 66,
   "id": "6b20a41e-13c3-498c-8b5b-3d8e1a8f4384",
   "metadata": {},
   "outputs": [],
   "source": [
    "order['order_time'] = pd.to_datetime(order['order_time'], format='%I:%M:%S %p').dt.time"
   ]
  },
  {
   "cell_type": "code",
   "execution_count": 67,
   "id": "93674fbe-60f2-4414-bdc4-031fcc82bdd2",
   "metadata": {},
   "outputs": [
    {
     "data": {
      "text/plain": [
       "datetime.time"
      ]
     },
     "execution_count": 67,
     "metadata": {},
     "output_type": "execute_result"
    }
   ],
   "source": [
    "type(order['order_time'][0])"
   ]
  },
  {
   "cell_type": "code",
   "execution_count": 68,
   "id": "cb2d8319-3ebc-4be0-9656-e79829e0477d",
   "metadata": {},
   "outputs": [
    {
     "name": "stdout",
     "output_type": "stream",
     "text": [
      "<class 'pandas.core.frame.DataFrame'>\n",
      "RangeIndex: 12234 entries, 0 to 12233\n",
      "Data columns (total 5 columns):\n",
      " #   Column            Non-Null Count  Dtype         \n",
      "---  ------            --------------  -----         \n",
      " 0   order_details_id  12234 non-null  int64         \n",
      " 1   order_id          12234 non-null  int64         \n",
      " 2   order_date        12234 non-null  datetime64[ns]\n",
      " 3   order_time        12234 non-null  object        \n",
      " 4   item_id           12097 non-null  float64       \n",
      "dtypes: datetime64[ns](1), float64(1), int64(2), object(1)\n",
      "memory usage: 478.0+ KB\n"
     ]
    }
   ],
   "source": [
    "order.info()"
   ]
  },
  {
   "cell_type": "code",
   "execution_count": 69,
   "id": "14893d2e-2fb8-4e15-83d0-b1f27d9d7318",
   "metadata": {},
   "outputs": [
    {
     "name": "stdout",
     "output_type": "stream",
     "text": [
      "<class 'pandas.core.frame.DataFrame'>\n",
      "RangeIndex: 9 entries, 0 to 8\n",
      "Data columns (total 3 columns):\n",
      " #   Column       Non-Null Count  Dtype \n",
      "---  ------       --------------  ----- \n",
      " 0   Table        9 non-null      object\n",
      " 1   Field        9 non-null      object\n",
      " 2   Description  9 non-null      object\n",
      "dtypes: object(3)\n",
      "memory usage: 348.0+ bytes\n"
     ]
    }
   ],
   "source": [
    "restaurant.info()"
   ]
  },
  {
   "cell_type": "code",
   "execution_count": 70,
   "id": "5ee8a689-689c-489a-a784-ab554729b3b3",
   "metadata": {},
   "outputs": [],
   "source": [
    "order['weekday'] = order['order_date'].dt.day_name()    \n",
    "order['weekday_num'] = order['order_date'].dt.weekday    \n",
    "order['month'] = order['order_date'].dt.month             \n",
    "order['month_name'] = order['order_date'].dt.month_name() \n",
    "order['year'] = order['order_date'].dt.year               \n",
    "order['week'] = order['order_date'].dt.isocalendar().week "
   ]
  },
  {
   "cell_type": "code",
   "execution_count": 71,
   "id": "868f3010-7d2b-462e-9b55-69075f423108",
   "metadata": {},
   "outputs": [],
   "source": [
    "order.drop(columns='year', inplace=True)"
   ]
  },
  {
   "cell_type": "code",
   "execution_count": 72,
   "id": "0bf3571d-aa02-4feb-9661-d06cacd606ab",
   "metadata": {},
   "outputs": [
    {
     "data": {
      "text/plain": [
       "array([datetime.time(11, 38, 36), datetime.time(11, 57, 40),\n",
       "       datetime.time(12, 12, 28), datetime.time(12, 16, 31),\n",
       "       datetime.time(12, 21, 30), datetime.time(12, 29, 36),\n",
       "       datetime.time(12, 50, 37), datetime.time(12, 51, 37),\n",
       "       datetime.time(12, 52, 1), datetime.time(13, 0, 15)], dtype=object)"
      ]
     },
     "execution_count": 72,
     "metadata": {},
     "output_type": "execute_result"
    }
   ],
   "source": [
    "order['order_time'].dropna().unique()[:10]\n"
   ]
  },
  {
   "cell_type": "code",
   "execution_count": null,
   "id": "ea6743b5-b1d0-426b-af1f-b1c9dadbf9bf",
   "metadata": {},
   "outputs": [],
   "source": []
  },
  {
   "cell_type": "code",
   "execution_count": 73,
   "id": "53f67a62-79bc-4fb5-b494-5b192419522d",
   "metadata": {},
   "outputs": [
    {
     "data": {
      "text/plain": [
       "menu_item_id    0\n",
       "item_name       0\n",
       "category        0\n",
       "price           0\n",
       "dtype: int64"
      ]
     },
     "execution_count": 73,
     "metadata": {},
     "output_type": "execute_result"
    }
   ],
   "source": [
    "menu.isnull().sum()"
   ]
  },
  {
   "cell_type": "code",
   "execution_count": 74,
   "id": "8953cd91-c31d-43b9-bdb0-1c0f83fc2728",
   "metadata": {},
   "outputs": [
    {
     "data": {
      "text/plain": [
       "order_details_id      0\n",
       "order_id              0\n",
       "order_date            0\n",
       "order_time            0\n",
       "item_id             137\n",
       "weekday               0\n",
       "weekday_num           0\n",
       "month                 0\n",
       "month_name            0\n",
       "week                  0\n",
       "dtype: int64"
      ]
     },
     "execution_count": 74,
     "metadata": {},
     "output_type": "execute_result"
    }
   ],
   "source": [
    "order.isnull().sum()\n"
   ]
  },
  {
   "cell_type": "code",
   "execution_count": 75,
   "id": "97960f9b-6abc-40de-a266-3b18fe03b4a3",
   "metadata": {},
   "outputs": [],
   "source": [
    "order = order.dropna(subset=['item_id'])"
   ]
  },
  {
   "cell_type": "code",
   "execution_count": 76,
   "id": "7c2d1b49-b034-4343-b2fa-dc2f69a5120e",
   "metadata": {},
   "outputs": [
    {
     "data": {
      "text/plain": [
       "order_details_id    0\n",
       "order_id            0\n",
       "order_date          0\n",
       "order_time          0\n",
       "item_id             0\n",
       "weekday             0\n",
       "weekday_num         0\n",
       "month               0\n",
       "month_name          0\n",
       "week                0\n",
       "dtype: int64"
      ]
     },
     "execution_count": 76,
     "metadata": {},
     "output_type": "execute_result"
    }
   ],
   "source": [
    "order.isnull().sum()"
   ]
  },
  {
   "cell_type": "code",
   "execution_count": 77,
   "id": "fde0865d-963a-4995-868d-87633da76ca3",
   "metadata": {},
   "outputs": [],
   "source": [
    "menu.rename(columns={'menu_item_id': 'item_id'}, inplace=True)\n",
    "df = pd.merge(order, menu, on='item_id', how='left')"
   ]
  },
  {
   "cell_type": "code",
   "execution_count": 78,
   "id": "4e3d163e-c79c-4fc9-9b2f-116ee591727f",
   "metadata": {},
   "outputs": [
    {
     "data": {
      "text/html": [
       "<div>\n",
       "<style scoped>\n",
       "    .dataframe tbody tr th:only-of-type {\n",
       "        vertical-align: middle;\n",
       "    }\n",
       "\n",
       "    .dataframe tbody tr th {\n",
       "        vertical-align: top;\n",
       "    }\n",
       "\n",
       "    .dataframe thead th {\n",
       "        text-align: right;\n",
       "    }\n",
       "</style>\n",
       "<table border=\"1\" class=\"dataframe\">\n",
       "  <thead>\n",
       "    <tr style=\"text-align: right;\">\n",
       "      <th></th>\n",
       "      <th>order_details_id</th>\n",
       "      <th>order_id</th>\n",
       "      <th>order_date</th>\n",
       "      <th>order_time</th>\n",
       "      <th>item_id</th>\n",
       "      <th>weekday</th>\n",
       "      <th>weekday_num</th>\n",
       "      <th>month</th>\n",
       "      <th>month_name</th>\n",
       "      <th>week</th>\n",
       "      <th>item_name</th>\n",
       "      <th>category</th>\n",
       "      <th>price</th>\n",
       "    </tr>\n",
       "  </thead>\n",
       "  <tbody>\n",
       "    <tr>\n",
       "      <th>0</th>\n",
       "      <td>1</td>\n",
       "      <td>1</td>\n",
       "      <td>2023-01-01</td>\n",
       "      <td>11:38:36</td>\n",
       "      <td>109.0</td>\n",
       "      <td>Sunday</td>\n",
       "      <td>6</td>\n",
       "      <td>1</td>\n",
       "      <td>January</td>\n",
       "      <td>52</td>\n",
       "      <td>Korean Beef Bowl</td>\n",
       "      <td>Asian</td>\n",
       "      <td>17.95</td>\n",
       "    </tr>\n",
       "    <tr>\n",
       "      <th>1</th>\n",
       "      <td>2</td>\n",
       "      <td>2</td>\n",
       "      <td>2023-01-01</td>\n",
       "      <td>11:57:40</td>\n",
       "      <td>108.0</td>\n",
       "      <td>Sunday</td>\n",
       "      <td>6</td>\n",
       "      <td>1</td>\n",
       "      <td>January</td>\n",
       "      <td>52</td>\n",
       "      <td>Tofu Pad Thai</td>\n",
       "      <td>Asian</td>\n",
       "      <td>14.50</td>\n",
       "    </tr>\n",
       "    <tr>\n",
       "      <th>2</th>\n",
       "      <td>3</td>\n",
       "      <td>2</td>\n",
       "      <td>2023-01-01</td>\n",
       "      <td>11:57:40</td>\n",
       "      <td>124.0</td>\n",
       "      <td>Sunday</td>\n",
       "      <td>6</td>\n",
       "      <td>1</td>\n",
       "      <td>January</td>\n",
       "      <td>52</td>\n",
       "      <td>Spaghetti</td>\n",
       "      <td>Italian</td>\n",
       "      <td>14.50</td>\n",
       "    </tr>\n",
       "    <tr>\n",
       "      <th>3</th>\n",
       "      <td>4</td>\n",
       "      <td>2</td>\n",
       "      <td>2023-01-01</td>\n",
       "      <td>11:57:40</td>\n",
       "      <td>117.0</td>\n",
       "      <td>Sunday</td>\n",
       "      <td>6</td>\n",
       "      <td>1</td>\n",
       "      <td>January</td>\n",
       "      <td>52</td>\n",
       "      <td>Chicken Burrito</td>\n",
       "      <td>Mexican</td>\n",
       "      <td>12.95</td>\n",
       "    </tr>\n",
       "    <tr>\n",
       "      <th>4</th>\n",
       "      <td>5</td>\n",
       "      <td>2</td>\n",
       "      <td>2023-01-01</td>\n",
       "      <td>11:57:40</td>\n",
       "      <td>129.0</td>\n",
       "      <td>Sunday</td>\n",
       "      <td>6</td>\n",
       "      <td>1</td>\n",
       "      <td>January</td>\n",
       "      <td>52</td>\n",
       "      <td>Mushroom Ravioli</td>\n",
       "      <td>Italian</td>\n",
       "      <td>15.50</td>\n",
       "    </tr>\n",
       "    <tr>\n",
       "      <th>...</th>\n",
       "      <td>...</td>\n",
       "      <td>...</td>\n",
       "      <td>...</td>\n",
       "      <td>...</td>\n",
       "      <td>...</td>\n",
       "      <td>...</td>\n",
       "      <td>...</td>\n",
       "      <td>...</td>\n",
       "      <td>...</td>\n",
       "      <td>...</td>\n",
       "      <td>...</td>\n",
       "      <td>...</td>\n",
       "      <td>...</td>\n",
       "    </tr>\n",
       "    <tr>\n",
       "      <th>12092</th>\n",
       "      <td>12230</td>\n",
       "      <td>5369</td>\n",
       "      <td>2023-03-31</td>\n",
       "      <td>22:05:04</td>\n",
       "      <td>109.0</td>\n",
       "      <td>Friday</td>\n",
       "      <td>4</td>\n",
       "      <td>3</td>\n",
       "      <td>March</td>\n",
       "      <td>13</td>\n",
       "      <td>Korean Beef Bowl</td>\n",
       "      <td>Asian</td>\n",
       "      <td>17.95</td>\n",
       "    </tr>\n",
       "    <tr>\n",
       "      <th>12093</th>\n",
       "      <td>12231</td>\n",
       "      <td>5369</td>\n",
       "      <td>2023-03-31</td>\n",
       "      <td>22:05:04</td>\n",
       "      <td>129.0</td>\n",
       "      <td>Friday</td>\n",
       "      <td>4</td>\n",
       "      <td>3</td>\n",
       "      <td>March</td>\n",
       "      <td>13</td>\n",
       "      <td>Mushroom Ravioli</td>\n",
       "      <td>Italian</td>\n",
       "      <td>15.50</td>\n",
       "    </tr>\n",
       "    <tr>\n",
       "      <th>12094</th>\n",
       "      <td>12232</td>\n",
       "      <td>5369</td>\n",
       "      <td>2023-03-31</td>\n",
       "      <td>22:05:04</td>\n",
       "      <td>120.0</td>\n",
       "      <td>Friday</td>\n",
       "      <td>4</td>\n",
       "      <td>3</td>\n",
       "      <td>March</td>\n",
       "      <td>13</td>\n",
       "      <td>Steak Torta</td>\n",
       "      <td>Mexican</td>\n",
       "      <td>13.95</td>\n",
       "    </tr>\n",
       "    <tr>\n",
       "      <th>12095</th>\n",
       "      <td>12233</td>\n",
       "      <td>5369</td>\n",
       "      <td>2023-03-31</td>\n",
       "      <td>22:05:04</td>\n",
       "      <td>122.0</td>\n",
       "      <td>Friday</td>\n",
       "      <td>4</td>\n",
       "      <td>3</td>\n",
       "      <td>March</td>\n",
       "      <td>13</td>\n",
       "      <td>Chips &amp; Salsa</td>\n",
       "      <td>Mexican</td>\n",
       "      <td>7.00</td>\n",
       "    </tr>\n",
       "    <tr>\n",
       "      <th>12096</th>\n",
       "      <td>12234</td>\n",
       "      <td>5370</td>\n",
       "      <td>2023-03-31</td>\n",
       "      <td>22:15:48</td>\n",
       "      <td>122.0</td>\n",
       "      <td>Friday</td>\n",
       "      <td>4</td>\n",
       "      <td>3</td>\n",
       "      <td>March</td>\n",
       "      <td>13</td>\n",
       "      <td>Chips &amp; Salsa</td>\n",
       "      <td>Mexican</td>\n",
       "      <td>7.00</td>\n",
       "    </tr>\n",
       "  </tbody>\n",
       "</table>\n",
       "<p>12097 rows × 13 columns</p>\n",
       "</div>"
      ],
      "text/plain": [
       "       order_details_id  order_id order_date order_time  item_id weekday  \\\n",
       "0                     1         1 2023-01-01   11:38:36    109.0  Sunday   \n",
       "1                     2         2 2023-01-01   11:57:40    108.0  Sunday   \n",
       "2                     3         2 2023-01-01   11:57:40    124.0  Sunday   \n",
       "3                     4         2 2023-01-01   11:57:40    117.0  Sunday   \n",
       "4                     5         2 2023-01-01   11:57:40    129.0  Sunday   \n",
       "...                 ...       ...        ...        ...      ...     ...   \n",
       "12092             12230      5369 2023-03-31   22:05:04    109.0  Friday   \n",
       "12093             12231      5369 2023-03-31   22:05:04    129.0  Friday   \n",
       "12094             12232      5369 2023-03-31   22:05:04    120.0  Friday   \n",
       "12095             12233      5369 2023-03-31   22:05:04    122.0  Friday   \n",
       "12096             12234      5370 2023-03-31   22:15:48    122.0  Friday   \n",
       "\n",
       "       weekday_num  month month_name  week         item_name category  price  \n",
       "0                6      1    January    52  Korean Beef Bowl    Asian  17.95  \n",
       "1                6      1    January    52     Tofu Pad Thai    Asian  14.50  \n",
       "2                6      1    January    52         Spaghetti  Italian  14.50  \n",
       "3                6      1    January    52   Chicken Burrito  Mexican  12.95  \n",
       "4                6      1    January    52  Mushroom Ravioli  Italian  15.50  \n",
       "...            ...    ...        ...   ...               ...      ...    ...  \n",
       "12092            4      3      March    13  Korean Beef Bowl    Asian  17.95  \n",
       "12093            4      3      March    13  Mushroom Ravioli  Italian  15.50  \n",
       "12094            4      3      March    13       Steak Torta  Mexican  13.95  \n",
       "12095            4      3      March    13     Chips & Salsa  Mexican   7.00  \n",
       "12096            4      3      March    13     Chips & Salsa  Mexican   7.00  \n",
       "\n",
       "[12097 rows x 13 columns]"
      ]
     },
     "execution_count": 78,
     "metadata": {},
     "output_type": "execute_result"
    }
   ],
   "source": [
    "df"
   ]
  },
  {
   "cell_type": "code",
   "execution_count": null,
   "id": "2fffe316-402d-4431-8758-1cbd830aa5e1",
   "metadata": {},
   "outputs": [],
   "source": []
  },
  {
   "cell_type": "code",
   "execution_count": 79,
   "id": "86087a8a-718b-46fd-b30e-54dfee765d80",
   "metadata": {},
   "outputs": [],
   "source": [
    "df['order_time'] = pd.to_datetime(df['order_time'], format='%I:%M:%S %p', errors='coerce')"
   ]
  },
  {
   "cell_type": "code",
   "execution_count": 80,
   "id": "2b5057ad-3f28-4ef3-8aca-9495e4f16f72",
   "metadata": {},
   "outputs": [
    {
     "name": "stdout",
     "output_type": "stream",
     "text": [
      "<class 'pandas.core.frame.DataFrame'>\n",
      "RangeIndex: 12097 entries, 0 to 12096\n",
      "Data columns (total 13 columns):\n",
      " #   Column            Non-Null Count  Dtype         \n",
      "---  ------            --------------  -----         \n",
      " 0   order_details_id  12097 non-null  int64         \n",
      " 1   order_id          12097 non-null  int64         \n",
      " 2   order_date        12097 non-null  datetime64[ns]\n",
      " 3   order_time        0 non-null      datetime64[ns]\n",
      " 4   item_id           12097 non-null  float64       \n",
      " 5   weekday           12097 non-null  object        \n",
      " 6   weekday_num       12097 non-null  int32         \n",
      " 7   month             12097 non-null  int32         \n",
      " 8   month_name        12097 non-null  object        \n",
      " 9   week              12097 non-null  UInt32        \n",
      " 10  item_name         12097 non-null  object        \n",
      " 11  category          12097 non-null  object        \n",
      " 12  price             12097 non-null  float64       \n",
      "dtypes: UInt32(1), datetime64[ns](2), float64(2), int32(2), int64(2), object(4)\n",
      "memory usage: 1.1+ MB\n"
     ]
    }
   ],
   "source": [
    "df.info()"
   ]
  },
  {
   "cell_type": "code",
   "execution_count": 81,
   "id": "9809f2cc-c608-4dab-82f7-318bea702268",
   "metadata": {},
   "outputs": [
    {
     "name": "stderr",
     "output_type": "stream",
     "text": [
      "C:\\Users\\Anastasia\\AppData\\Local\\Temp\\ipykernel_26676\\1123849588.py:1: UserWarning: The argument 'infer_datetime_format' is deprecated and will be removed in a future version. A strict version of it is now the default, see https://pandas.pydata.org/pdeps/0004-consistent-to-datetime-parsing.html. You can safely remove this argument.\n",
      "  df['order_time'] = pd.to_datetime(df['order_time'], errors='coerce', infer_datetime_format=True)\n"
     ]
    }
   ],
   "source": [
    "df['order_time'] = pd.to_datetime(df['order_time'], errors='coerce', infer_datetime_format=True)"
   ]
  },
  {
   "cell_type": "code",
   "execution_count": 82,
   "id": "afca7c8e-172b-4125-8689-41885b6a860e",
   "metadata": {},
   "outputs": [
    {
     "name": "stdout",
     "output_type": "stream",
     "text": [
      "0   NaT\n",
      "1   NaT\n",
      "2   NaT\n",
      "3   NaT\n",
      "4   NaT\n",
      "Name: order_time, dtype: datetime64[ns]\n",
      "datetime64[ns]\n"
     ]
    }
   ],
   "source": [
    "print(df['order_time'].head())\n",
    "print(df['order_time'].dtype)"
   ]
  },
  {
   "cell_type": "code",
   "execution_count": 83,
   "id": "2133d80c-8d5e-4492-a783-b0c45b8b4437",
   "metadata": {},
   "outputs": [
    {
     "name": "stdout",
     "output_type": "stream",
     "text": [
      "   order_details_id order_time\n",
      "0                 1   11:38:36\n",
      "1                 2   11:57:40\n",
      "2                 3   11:57:40\n",
      "3                 4   11:57:40\n",
      "4                 5   11:57:40\n"
     ]
    }
   ],
   "source": [
    "df = df.drop(columns=['order_time']) \n",
    "df = df.merge(order[['order_details_id', 'order_time']], on='order_details_id', how='left')\n",
    "print(df[['order_details_id', 'order_time']].head())"
   ]
  },
  {
   "cell_type": "code",
   "execution_count": null,
   "id": "409e1bd2-ac57-438a-9621-409d1a24361a",
   "metadata": {},
   "outputs": [],
   "source": []
  },
  {
   "cell_type": "code",
   "execution_count": 84,
   "id": "ad5471de-950b-42e3-9c42-866986ac175d",
   "metadata": {},
   "outputs": [
    {
     "data": {
      "text/html": [
       "<div>\n",
       "<style scoped>\n",
       "    .dataframe tbody tr th:only-of-type {\n",
       "        vertical-align: middle;\n",
       "    }\n",
       "\n",
       "    .dataframe tbody tr th {\n",
       "        vertical-align: top;\n",
       "    }\n",
       "\n",
       "    .dataframe thead th {\n",
       "        text-align: right;\n",
       "    }\n",
       "</style>\n",
       "<table border=\"1\" class=\"dataframe\">\n",
       "  <thead>\n",
       "    <tr style=\"text-align: right;\">\n",
       "      <th></th>\n",
       "      <th>order_details_id</th>\n",
       "      <th>order_id</th>\n",
       "      <th>order_date</th>\n",
       "      <th>item_id</th>\n",
       "      <th>weekday</th>\n",
       "      <th>weekday_num</th>\n",
       "      <th>month</th>\n",
       "      <th>month_name</th>\n",
       "      <th>week</th>\n",
       "      <th>item_name</th>\n",
       "      <th>category</th>\n",
       "      <th>price</th>\n",
       "      <th>order_time</th>\n",
       "    </tr>\n",
       "  </thead>\n",
       "  <tbody>\n",
       "    <tr>\n",
       "      <th>0</th>\n",
       "      <td>1</td>\n",
       "      <td>1</td>\n",
       "      <td>2023-01-01</td>\n",
       "      <td>109.0</td>\n",
       "      <td>Sunday</td>\n",
       "      <td>6</td>\n",
       "      <td>1</td>\n",
       "      <td>January</td>\n",
       "      <td>52</td>\n",
       "      <td>Korean Beef Bowl</td>\n",
       "      <td>Asian</td>\n",
       "      <td>17.95</td>\n",
       "      <td>11:38:36</td>\n",
       "    </tr>\n",
       "    <tr>\n",
       "      <th>1</th>\n",
       "      <td>2</td>\n",
       "      <td>2</td>\n",
       "      <td>2023-01-01</td>\n",
       "      <td>108.0</td>\n",
       "      <td>Sunday</td>\n",
       "      <td>6</td>\n",
       "      <td>1</td>\n",
       "      <td>January</td>\n",
       "      <td>52</td>\n",
       "      <td>Tofu Pad Thai</td>\n",
       "      <td>Asian</td>\n",
       "      <td>14.50</td>\n",
       "      <td>11:57:40</td>\n",
       "    </tr>\n",
       "    <tr>\n",
       "      <th>2</th>\n",
       "      <td>3</td>\n",
       "      <td>2</td>\n",
       "      <td>2023-01-01</td>\n",
       "      <td>124.0</td>\n",
       "      <td>Sunday</td>\n",
       "      <td>6</td>\n",
       "      <td>1</td>\n",
       "      <td>January</td>\n",
       "      <td>52</td>\n",
       "      <td>Spaghetti</td>\n",
       "      <td>Italian</td>\n",
       "      <td>14.50</td>\n",
       "      <td>11:57:40</td>\n",
       "    </tr>\n",
       "    <tr>\n",
       "      <th>3</th>\n",
       "      <td>4</td>\n",
       "      <td>2</td>\n",
       "      <td>2023-01-01</td>\n",
       "      <td>117.0</td>\n",
       "      <td>Sunday</td>\n",
       "      <td>6</td>\n",
       "      <td>1</td>\n",
       "      <td>January</td>\n",
       "      <td>52</td>\n",
       "      <td>Chicken Burrito</td>\n",
       "      <td>Mexican</td>\n",
       "      <td>12.95</td>\n",
       "      <td>11:57:40</td>\n",
       "    </tr>\n",
       "    <tr>\n",
       "      <th>4</th>\n",
       "      <td>5</td>\n",
       "      <td>2</td>\n",
       "      <td>2023-01-01</td>\n",
       "      <td>129.0</td>\n",
       "      <td>Sunday</td>\n",
       "      <td>6</td>\n",
       "      <td>1</td>\n",
       "      <td>January</td>\n",
       "      <td>52</td>\n",
       "      <td>Mushroom Ravioli</td>\n",
       "      <td>Italian</td>\n",
       "      <td>15.50</td>\n",
       "      <td>11:57:40</td>\n",
       "    </tr>\n",
       "    <tr>\n",
       "      <th>...</th>\n",
       "      <td>...</td>\n",
       "      <td>...</td>\n",
       "      <td>...</td>\n",
       "      <td>...</td>\n",
       "      <td>...</td>\n",
       "      <td>...</td>\n",
       "      <td>...</td>\n",
       "      <td>...</td>\n",
       "      <td>...</td>\n",
       "      <td>...</td>\n",
       "      <td>...</td>\n",
       "      <td>...</td>\n",
       "      <td>...</td>\n",
       "    </tr>\n",
       "    <tr>\n",
       "      <th>12092</th>\n",
       "      <td>12230</td>\n",
       "      <td>5369</td>\n",
       "      <td>2023-03-31</td>\n",
       "      <td>109.0</td>\n",
       "      <td>Friday</td>\n",
       "      <td>4</td>\n",
       "      <td>3</td>\n",
       "      <td>March</td>\n",
       "      <td>13</td>\n",
       "      <td>Korean Beef Bowl</td>\n",
       "      <td>Asian</td>\n",
       "      <td>17.95</td>\n",
       "      <td>22:05:04</td>\n",
       "    </tr>\n",
       "    <tr>\n",
       "      <th>12093</th>\n",
       "      <td>12231</td>\n",
       "      <td>5369</td>\n",
       "      <td>2023-03-31</td>\n",
       "      <td>129.0</td>\n",
       "      <td>Friday</td>\n",
       "      <td>4</td>\n",
       "      <td>3</td>\n",
       "      <td>March</td>\n",
       "      <td>13</td>\n",
       "      <td>Mushroom Ravioli</td>\n",
       "      <td>Italian</td>\n",
       "      <td>15.50</td>\n",
       "      <td>22:05:04</td>\n",
       "    </tr>\n",
       "    <tr>\n",
       "      <th>12094</th>\n",
       "      <td>12232</td>\n",
       "      <td>5369</td>\n",
       "      <td>2023-03-31</td>\n",
       "      <td>120.0</td>\n",
       "      <td>Friday</td>\n",
       "      <td>4</td>\n",
       "      <td>3</td>\n",
       "      <td>March</td>\n",
       "      <td>13</td>\n",
       "      <td>Steak Torta</td>\n",
       "      <td>Mexican</td>\n",
       "      <td>13.95</td>\n",
       "      <td>22:05:04</td>\n",
       "    </tr>\n",
       "    <tr>\n",
       "      <th>12095</th>\n",
       "      <td>12233</td>\n",
       "      <td>5369</td>\n",
       "      <td>2023-03-31</td>\n",
       "      <td>122.0</td>\n",
       "      <td>Friday</td>\n",
       "      <td>4</td>\n",
       "      <td>3</td>\n",
       "      <td>March</td>\n",
       "      <td>13</td>\n",
       "      <td>Chips &amp; Salsa</td>\n",
       "      <td>Mexican</td>\n",
       "      <td>7.00</td>\n",
       "      <td>22:05:04</td>\n",
       "    </tr>\n",
       "    <tr>\n",
       "      <th>12096</th>\n",
       "      <td>12234</td>\n",
       "      <td>5370</td>\n",
       "      <td>2023-03-31</td>\n",
       "      <td>122.0</td>\n",
       "      <td>Friday</td>\n",
       "      <td>4</td>\n",
       "      <td>3</td>\n",
       "      <td>March</td>\n",
       "      <td>13</td>\n",
       "      <td>Chips &amp; Salsa</td>\n",
       "      <td>Mexican</td>\n",
       "      <td>7.00</td>\n",
       "      <td>22:15:48</td>\n",
       "    </tr>\n",
       "  </tbody>\n",
       "</table>\n",
       "<p>12097 rows × 13 columns</p>\n",
       "</div>"
      ],
      "text/plain": [
       "       order_details_id  order_id order_date  item_id weekday  weekday_num  \\\n",
       "0                     1         1 2023-01-01    109.0  Sunday            6   \n",
       "1                     2         2 2023-01-01    108.0  Sunday            6   \n",
       "2                     3         2 2023-01-01    124.0  Sunday            6   \n",
       "3                     4         2 2023-01-01    117.0  Sunday            6   \n",
       "4                     5         2 2023-01-01    129.0  Sunday            6   \n",
       "...                 ...       ...        ...      ...     ...          ...   \n",
       "12092             12230      5369 2023-03-31    109.0  Friday            4   \n",
       "12093             12231      5369 2023-03-31    129.0  Friday            4   \n",
       "12094             12232      5369 2023-03-31    120.0  Friday            4   \n",
       "12095             12233      5369 2023-03-31    122.0  Friday            4   \n",
       "12096             12234      5370 2023-03-31    122.0  Friday            4   \n",
       "\n",
       "       month month_name  week         item_name category  price order_time  \n",
       "0          1    January    52  Korean Beef Bowl    Asian  17.95   11:38:36  \n",
       "1          1    January    52     Tofu Pad Thai    Asian  14.50   11:57:40  \n",
       "2          1    January    52         Spaghetti  Italian  14.50   11:57:40  \n",
       "3          1    January    52   Chicken Burrito  Mexican  12.95   11:57:40  \n",
       "4          1    January    52  Mushroom Ravioli  Italian  15.50   11:57:40  \n",
       "...      ...        ...   ...               ...      ...    ...        ...  \n",
       "12092      3      March    13  Korean Beef Bowl    Asian  17.95   22:05:04  \n",
       "12093      3      March    13  Mushroom Ravioli  Italian  15.50   22:05:04  \n",
       "12094      3      March    13       Steak Torta  Mexican  13.95   22:05:04  \n",
       "12095      3      March    13     Chips & Salsa  Mexican   7.00   22:05:04  \n",
       "12096      3      March    13     Chips & Salsa  Mexican   7.00   22:15:48  \n",
       "\n",
       "[12097 rows x 13 columns]"
      ]
     },
     "execution_count": 84,
     "metadata": {},
     "output_type": "execute_result"
    }
   ],
   "source": [
    "df"
   ]
  },
  {
   "cell_type": "code",
   "execution_count": 85,
   "id": "97066554-b0f6-4949-a432-bc7dca94e60a",
   "metadata": {},
   "outputs": [
    {
     "name": "stdout",
     "output_type": "stream",
     "text": [
      "8477     12:30:24\n",
      "9217     14:38:10\n",
      "3781     16:48:09\n",
      "8004     17:42:36\n",
      "10153    15:38:00\n",
      "11306    14:40:47\n",
      "10046    17:46:16\n",
      "10168    16:33:13\n",
      "1971     17:13:58\n",
      "1385     21:22:44\n",
      "Name: order_time, dtype: object\n"
     ]
    }
   ],
   "source": [
    "print(df['order_time'].sample(10))"
   ]
  },
  {
   "cell_type": "code",
   "execution_count": 86,
   "id": "29d1e905-5ddb-42ae-a7be-f8c3cbfd622b",
   "metadata": {},
   "outputs": [
    {
     "name": "stdout",
     "output_type": "stream",
     "text": [
      "           order_time  hour\n",
      "0 1900-01-01 11:38:36    11\n",
      "1 1900-01-01 11:57:40    11\n",
      "2 1900-01-01 11:57:40    11\n",
      "3 1900-01-01 11:57:40    11\n",
      "4 1900-01-01 11:57:40    11\n"
     ]
    }
   ],
   "source": [
    "df['order_time'] = pd.to_datetime(df['order_time'], format='%H:%M:%S', errors='coerce')\n",
    "df['hour'] = df['order_time'].dt.hour\n",
    "print(df[['order_time', 'hour']].head())"
   ]
  },
  {
   "cell_type": "code",
   "execution_count": 87,
   "id": "efe0ce59-c70a-49bc-a931-37361c2f727c",
   "metadata": {},
   "outputs": [
    {
     "data": {
      "image/png": "[encoded data removed]",
      "text/plain": [
       "<Figure size 600x400 with 1 Axes>"
      ]
     },
     "metadata": {},
     "output_type": "display_data"
    }
   ],
   "source": [
    "#How are prices distributed on a restaurant menu?\n",
    "plt.figure(figsize=(6, 4))\n",
    "sns.histplot(df['price'], bins=10, kde=False, color='salmon')\n",
    "plt.title('Distribution of prices for meals')\n",
    "plt.xlabel('Price')\n",
    "plt.ylabel('Number of Meals')\n",
    "plt.show()"
   ]
  },
  {
   "cell_type": "code",
   "execution_count": null,
   "id": "faf43a60-e0c5-4055-bfc3-ccb172449016",
   "metadata": {},
   "outputs": [],
   "source": [
    "#The distribution of meal prices is concentrated in the mid-to-high range, particularly between $13 and $18.\n",
    "#The most frequent price point is around $13, indicating a pricing strategy focused on mid-range offerings rather than low-cost fast food.\n",
    "#While a few dishes are priced below $10, they represent a smaller portion of the menu."
   ]
  },
  {
   "cell_type": "code",
   "execution_count": 88,
   "id": "7aa2e888-a099-4d48-8684-aeda076c2e0a",
   "metadata": {},
   "outputs": [
    {
     "data": {
      "image/png": "[encoded data removed]",
      "text/plain": [
       "<Figure size 640x480 with 1 Axes>"
      ]
     },
     "metadata": {},
     "output_type": "display_data"
    }
   ],
   "source": [
    "#Order distribution chart by hours of the day\n",
    "hourly_orders = df['order_time'].dt.hour.value_counts().sort_index()\n",
    "sns.lineplot(x=hourly_orders.index, y=hourly_orders.values)\n",
    "plt.title('Number of Orders by Hour')\n",
    "plt.xlabel('Hour of Day')\n",
    "plt.ylabel('Number of Orders')\n",
    "plt.show()"
   ]
  },
  {
   "cell_type": "code",
   "execution_count": null,
   "id": "aac86a21-c2c7-4a28-867c-a6dc79a828ae",
   "metadata": {},
   "outputs": [],
   "source": [
    "#Orders peak around lunchtime (12:00–13:00) and again during the evening (18:00–20:00), \n",
    "#indicating two primary windows of customer activity corresponding to standard meal times."
   ]
  },
  {
   "cell_type": "code",
   "execution_count": 89,
   "id": "012d4d54-0597-4d0b-9c4d-55060656fbbb",
   "metadata": {},
   "outputs": [
    {
     "data": {
      "image/png": "[encoded data removed]",
      "text/plain": [
       "<Figure size 1400x600 with 2 Axes>"
      ]
     },
     "metadata": {},
     "output_type": "display_data"
    }
   ],
   "source": [
    "#Order density by days of the week and hours\n",
    "heatmap_data = df.pivot_table(index='weekday', columns='hour', values='order_details_id', aggfunc='count', fill_value=0)\n",
    "\n",
    "days_order = ['Monday', 'Tuesday', 'Wednesday', 'Thursday', 'Friday', 'Saturday', 'Sunday']\n",
    "heatmap_data = heatmap_data.reindex(days_order)\n",
    "\n",
    "plt.figure(figsize=(14, 6))\n",
    "sns.heatmap(heatmap_data, cmap='YlGnBu', linewidths=0.5, linecolor='gray')\n",
    "\n",
    "plt.title('Order Density by Weekday and Hour', fontsize=16)\n",
    "plt.xlabel('Hour of Day', fontsize=12)\n",
    "plt.ylabel('Day of Week', fontsize=12)\n",
    "plt.xticks(rotation=0)\n",
    "plt.yticks(rotation=0)\n",
    "plt.show()"
   ]
  },
  {
   "cell_type": "code",
   "execution_count": null,
   "id": "d7162b45-b2ba-4938-8f9b-99b748f6349a",
   "metadata": {},
   "outputs": [],
   "source": [
    "#The highest concentration of orders occurs during lunchtime hours (12:00–13:00) across multiple days,\n",
    "#with Sunday at 13:00 showing the single most active time slot.\n",
    "#Evening hours (17:00–20:00) also show consistent activity throughout the week, especially from Thursday to Sunday.\n",
    "#This pattern suggests two primary peaks — midday and evening — with Sundays being the most intense overall."
   ]
  },
  {
   "cell_type": "code",
   "execution_count": 90,
   "id": "b41e225c-4e2f-490c-9315-828168b3ff8f",
   "metadata": {},
   "outputs": [
    {
     "data": {
      "image/png": "[encoded data removed]",
      "text/plain": [
       "<Figure size 1000x600 with 1 Axes>"
      ]
     },
     "metadata": {},
     "output_type": "display_data"
    }
   ],
   "source": [
    "#Price Distribution by Food Category\n",
    "plt.figure(figsize=(10, 6))\n",
    "\n",
    "sns.boxplot(x='category', y='price', data=menu)\n",
    "\n",
    "plt.title('Price Distribution by Food Category', fontsize=16)\n",
    "plt.xlabel('Food Category', fontsize=12)\n",
    "plt.ylabel('Price ($)', fontsize=12)\n",
    "plt.xticks(rotation=45)\n",
    "plt.grid(True)\n",
    "\n",
    "plt.show()"
   ]
  },
  {
   "cell_type": "code",
   "execution_count": null,
   "id": "574e58e8-a25a-41ee-9aa1-801e15fcb966",
   "metadata": {},
   "outputs": [],
   "source": [
    "#Italian dishes are consistently the most expensive, with prices tightly clustered around $17–$20.\n",
    "#Asian cuisine shows the widest price range, offering both budget and premium items.\n",
    "#American and Mexican dishes are generally cheaper, with American cuisine having the lowest median price.\n",
    "#This highlights a clear segmentation between premium (Italian, Asian) and value-driven (Mexican, American) categories."
   ]
  },
  {
   "cell_type": "code",
   "execution_count": 91,
   "id": "980fac8c-5667-4b90-ace8-7e17a0b08174",
   "metadata": {},
   "outputs": [
    {
     "name": "stderr",
     "output_type": "stream",
     "text": [
      "C:\\Users\\Anastasia\\AppData\\Local\\Temp\\ipykernel_26676\\636533178.py:5: FutureWarning: \n",
      "\n",
      "Passing `palette` without assigning `hue` is deprecated and will be removed in v0.14.0. Assign the `y` variable to `hue` and set `legend=False` for the same effect.\n",
      "\n",
      "  sns.barplot(x=top_10_dishes.values, y=top_10_dishes.index, palette='viridis')\n"
     ]
    },
    {
     "data": {
      "image/png": "[encoded data removed]",
      "text/plain": [
       "<Figure size 1200x600 with 1 Axes>"
      ]
     },
     "metadata": {},
     "output_type": "display_data"
    }
   ],
   "source": [
    "plt.figure(figsize=(12, 6))\n",
    "\n",
    "top_10_dishes = df['item_name'].value_counts().head(10)\n",
    "\n",
    "sns.barplot(x=top_10_dishes.values, y=top_10_dishes.index, palette='viridis')\n",
    "\n",
    "plt.title('Top 10 Most Popular Dishes', fontsize=16)\n",
    "plt.xlabel('Number of Orders', fontsize=12)\n",
    "plt.ylabel('Dish Name', fontsize=12)\n",
    "plt.grid(True, axis='x')\n",
    "plt.show()"
   ]
  },
  {
   "cell_type": "code",
   "execution_count": null,
   "id": "97ffc165-4b98-4527-8eae-c2ae489a2250",
   "metadata": {},
   "outputs": [],
   "source": [
    "#Popular dishes are dominated by American and Asian items.\n",
    "#A significant breakthrough in popularity is seen in the Hamburger and Edamame categories\n",
    "#These are likely reliable staples and could serve as anchors for combo deals or upselling."
   ]
  },
  {
   "cell_type": "code",
   "execution_count": 93,
   "id": "e9d2ebb0-65c2-485c-8a09-be3174f2fbb5",
   "metadata": {},
   "outputs": [
    {
     "data": {
      "text/html": [
       "<div>\n",
       "<style scoped>\n",
       "    .dataframe tbody tr th:only-of-type {\n",
       "        vertical-align: middle;\n",
       "    }\n",
       "\n",
       "    .dataframe tbody tr th {\n",
       "        vertical-align: top;\n",
       "    }\n",
       "\n",
       "    .dataframe thead th {\n",
       "        text-align: right;\n",
       "    }\n",
       "</style>\n",
       "<table border=\"1\" class=\"dataframe\">\n",
       "  <thead>\n",
       "    <tr style=\"text-align: right;\">\n",
       "      <th></th>\n",
       "      <th>category</th>\n",
       "      <th>num_items</th>\n",
       "      <th>total_revenue</th>\n",
       "      <th>avg_price</th>\n",
       "    </tr>\n",
       "  </thead>\n",
       "  <tbody>\n",
       "    <tr>\n",
       "      <th>0</th>\n",
       "      <td>American</td>\n",
       "      <td>2734</td>\n",
       "      <td>28237.75</td>\n",
       "      <td>10.328365</td>\n",
       "    </tr>\n",
       "    <tr>\n",
       "      <th>1</th>\n",
       "      <td>Asian</td>\n",
       "      <td>3470</td>\n",
       "      <td>46720.65</td>\n",
       "      <td>13.464164</td>\n",
       "    </tr>\n",
       "    <tr>\n",
       "      <th>2</th>\n",
       "      <td>Italian</td>\n",
       "      <td>2948</td>\n",
       "      <td>49462.70</td>\n",
       "      <td>16.778392</td>\n",
       "    </tr>\n",
       "    <tr>\n",
       "      <th>3</th>\n",
       "      <td>Mexican</td>\n",
       "      <td>2945</td>\n",
       "      <td>34796.80</td>\n",
       "      <td>11.815552</td>\n",
       "    </tr>\n",
       "  </tbody>\n",
       "</table>\n",
       "</div>"
      ],
      "text/plain": [
       "   category  num_items  total_revenue  avg_price\n",
       "0  American       2734       28237.75  10.328365\n",
       "1     Asian       3470       46720.65  13.464164\n",
       "2   Italian       2948       49462.70  16.778392\n",
       "3   Mexican       2945       34796.80  11.815552"
      ]
     },
     "execution_count": 93,
     "metadata": {},
     "output_type": "execute_result"
    }
   ],
   "source": [
    "df['revenue'] = df['price']\n",
    "category_summary = df.groupby('category').agg({\n",
    "    'order_id': 'count',\n",
    "    'revenue': 'sum',\n",
    "    'price': 'mean'\n",
    "}).rename(columns={\n",
    "    'order_id': 'num_items',\n",
    "    'revenue': 'total_revenue',\n",
    "    'price': 'avg_price'\n",
    "}).reset_index()\n",
    "\n",
    "category_summary"
   ]
  },
  {
   "cell_type": "code",
   "execution_count": 95,
   "id": "2a951d67-ebda-4584-963e-f1543538db2e",
   "metadata": {},
   "outputs": [
    {
     "data": {
      "text/html": [
       "<div>\n",
       "<style scoped>\n",
       "    .dataframe tbody tr th:only-of-type {\n",
       "        vertical-align: middle;\n",
       "    }\n",
       "\n",
       "    .dataframe tbody tr th {\n",
       "        vertical-align: top;\n",
       "    }\n",
       "\n",
       "    .dataframe thead th {\n",
       "        text-align: right;\n",
       "    }\n",
       "</style>\n",
       "<table border=\"1\" class=\"dataframe\">\n",
       "  <thead>\n",
       "    <tr style=\"text-align: right;\">\n",
       "      <th></th>\n",
       "      <th>category</th>\n",
       "      <th>num_items</th>\n",
       "      <th>total_revenue</th>\n",
       "      <th>avg_price</th>\n",
       "    </tr>\n",
       "  </thead>\n",
       "  <tbody>\n",
       "    <tr>\n",
       "      <th>2</th>\n",
       "      <td>Italian</td>\n",
       "      <td>2948</td>\n",
       "      <td>49462.70</td>\n",
       "      <td>16.778392</td>\n",
       "    </tr>\n",
       "    <tr>\n",
       "      <th>1</th>\n",
       "      <td>Asian</td>\n",
       "      <td>3470</td>\n",
       "      <td>46720.65</td>\n",
       "      <td>13.464164</td>\n",
       "    </tr>\n",
       "    <tr>\n",
       "      <th>3</th>\n",
       "      <td>Mexican</td>\n",
       "      <td>2945</td>\n",
       "      <td>34796.80</td>\n",
       "      <td>11.815552</td>\n",
       "    </tr>\n",
       "    <tr>\n",
       "      <th>0</th>\n",
       "      <td>American</td>\n",
       "      <td>2734</td>\n",
       "      <td>28237.75</td>\n",
       "      <td>10.328365</td>\n",
       "    </tr>\n",
       "  </tbody>\n",
       "</table>\n",
       "</div>"
      ],
      "text/plain": [
       "   category  num_items  total_revenue  avg_price\n",
       "2   Italian       2948       49462.70  16.778392\n",
       "1     Asian       3470       46720.65  13.464164\n",
       "3   Mexican       2945       34796.80  11.815552\n",
       "0  American       2734       28237.75  10.328365"
      ]
     },
     "execution_count": 95,
     "metadata": {},
     "output_type": "execute_result"
    }
   ],
   "source": [
    "category_summary = category_summary.sort_values(by='total_revenue', ascending=False)\n",
    "category_summary"
   ]
  },
  {
   "cell_type": "code",
   "execution_count": 97,
   "id": "bc3e25a1-c30e-4e15-b59e-399fa4a57daf",
   "metadata": {},
   "outputs": [
    {
     "data": {
      "image/png": "[encoded data removed]",
      "text/plain": [
       "<Figure size 1000x600 with 1 Axes>"
      ]
     },
     "metadata": {},
     "output_type": "display_data"
    }
   ],
   "source": [
    "plt.figure(figsize=(10, 6))\n",
    "\n",
    "sns.scatterplot(\n",
    "    data=category_summary,\n",
    "    x='num_items',\n",
    "    y='avg_price',\n",
    "    hue='category', \n",
    "    s=120,\n",
    "    alpha=0.7\n",
    ")\n",
    "\n",
    "plt.title('Category Behavior: Popularity vs Average Price')\n",
    "plt.xlabel('Number of Items Ordered')\n",
    "plt.ylabel('Average Price per Item ($)')\n",
    "plt.grid(True)\n",
    "plt.legend(title='Category')\n",
    "plt.show()"
   ]
  },
  {
   "cell_type": "code",
   "execution_count": null,
   "id": "6fc163a5-a541-44b4-bc47-d5a6d535fa9c",
   "metadata": {},
   "outputs": [],
   "source": [
    "#Asian cuisine is the most frequently ordered category, with over 3400 total orders and a mid-range average price.\n",
    "#Italian dishes have the highest average price (~$17) despite a moderate number of orders, indicating their premium positioning.\n",
    "#American cuisine is the least ordered and also the cheapest, while Mexican food sits in the middle in both price and popularity.\n",
    "#This reflects a market structure where Asian food dominates volume, and Italian food contributes high-value sales."
   ]
  },
  {
   "cell_type": "code",
   "execution_count": 106,
   "id": "b83a897c-4b2b-49d1-a95a-f748d6be3d0a",
   "metadata": {},
   "outputs": [
    {
     "name": "stderr",
     "output_type": "stream",
     "text": [
      "C:\\Users\\Anastasia\\AppData\\Local\\Temp\\ipykernel_26676\\3376649174.py:6: FutureWarning: \n",
      "\n",
      "Passing `palette` without assigning `hue` is deprecated and will be removed in v0.14.0. Assign the `x` variable to `hue` and set `legend=False` for the same effect.\n",
      "\n",
      "  sns.barplot(x=weekday_summary.index, y=weekday_summary.values, palette='Set2')\n"
     ]
    },
    {
     "data": {
      "image/png": "[encoded data removed]",
      "text/plain": [
       "<Figure size 1000x600 with 1 Axes>"
      ]
     },
     "metadata": {},
     "output_type": "display_data"
    }
   ],
   "source": [
    "weekday_summary = df.groupby('weekday')['revenue'].sum().reindex([\n",
    "    'Monday', 'Tuesday', 'Wednesday', 'Thursday', 'Friday', 'Saturday', 'Sunday'\n",
    "])\n",
    "\n",
    "plt.figure(figsize=(10, 6))\n",
    "sns.barplot(x=weekday_summary.index, y=weekday_summary.values, palette='Set2')\n",
    "plt.title('Total Revenue by Day of the Week')\n",
    "plt.xlabel('Weekday')\n",
    "plt.ylabel('Total Revenue ($)')\n",
    "plt.grid(True, axis='y')\n",
    "plt.tight_layout()\n",
    "plt.show()"
   ]
  },
  {
   "cell_type": "code",
   "execution_count": null,
   "id": "caeb911d-7759-43f6-a7fd-aa7c76a73674",
   "metadata": {},
   "outputs": [],
   "source": [
    "#Monday shows the highest total revenue, making it the restaurant’s strongest day of the week, followed by Friday and Tuesday.\n",
    "#The weekend revenue (Saturday and Sunday) is slightly lower, indicating that weekday performance is relatively stronger in this dataset.\n",
    "#This suggests that customers may prefer ordering at the start and end of the workweek rather than on weekends."
   ]
  },
  {
   "cell_type": "code",
   "execution_count": 109,
   "id": "f68e9980-e2f8-4d0a-b965-04e7124b3f42",
   "metadata": {},
   "outputs": [
    {
     "name": "stderr",
     "output_type": "stream",
     "text": [
      "C:\\Users\\Anastasia\\AppData\\Local\\Temp\\ipykernel_26676\\893652241.py:6: FutureWarning: \n",
      "\n",
      "Passing `palette` without assigning `hue` is deprecated and will be removed in v0.14.0. Assign the `x` variable to `hue` and set `legend=False` for the same effect.\n",
      "\n",
      "  sns.barplot(x=month_summary.index, y=month_summary.values, palette='Blues')\n"
     ]
    },
    {
     "data": {
      "image/png": "[encoded data removed]",
      "text/plain": [
       "<Figure size 800x600 with 1 Axes>"
      ]
     },
     "metadata": {},
     "output_type": "display_data"
    }
   ],
   "source": [
    "month_summary = df.groupby('month_name')['revenue'].sum().reindex([\n",
    "    'January', 'February', 'March'\n",
    "])\n",
    "\n",
    "plt.figure(figsize=(8, 6))\n",
    "sns.barplot(x=month_summary.index, y=month_summary.values, palette='Blues')\n",
    "plt.title('Total Revenue by Month')\n",
    "plt.xlabel('Month')\n",
    "plt.ylabel('Total Revenue ($)')\n",
    "plt.grid(True, axis='y')\n",
    "plt.tight_layout()\n",
    "plt.show()"
   ]
  },
  {
   "cell_type": "code",
   "execution_count": null,
   "id": "8ef5be8b-f8c8-4bee-b3bb-77a209059ddc",
   "metadata": {},
   "outputs": [],
   "source": [
    "#Monthly revenue shows an overall upward trend during the first quarter of the year.\n",
    "#While February saw a slight dip compared to January, March significantly outperformed both previous months.\n",
    "#This may reflect growing customer engagement or successful promotional efforts later in the quarter."
   ]
  },
  {
   "cell_type": "code",
   "execution_count": null,
   "id": "387cfb7e-d47b-4f32-a14a-1cf5f730279b",
   "metadata": {},
   "outputs": [],
   "source": [
    "#Final Conclusion\n",
    "#The analysis reveals key patterns in customer behavior, pricing, and sales dynamics. \n",
    "#Italian cuisine stands out as the most premium category, while Asian food leads in popularity.\n",
    "#Revenue distribution across weekdays is unexpectedly highest on Mondays, contrasting with common industry assumptions about weekend peaks. \n",
    "#The first quarter shows a moderate but steady increase in total revenue, with March being the strongest month.\n",
    "#These findings suggest that optimizing weekday promotions, preserving menu diversity, and tracking seasonal trends can help further improve performance."
   ]
  },
  {
   "cell_type": "code",
   "execution_count": null,
   "id": "bbe720f4-3924-4d0c-9919-c238a7b95dbb",
   "metadata": {},
   "outputs": [],
   "source": []
  },
  {
   "cell_type": "code",
   "execution_count": null,
   "id": "d6fa2dbd-7605-4db7-8246-fbd80ed2da9d",
   "metadata": {},
   "outputs": [],
   "source": []
  },
  {
   "cell_type": "code",
   "execution_count": null,
   "id": "83977140-10f9-4343-b2e8-4b10ef2e87d4",
   "metadata": {},
   "outputs": [],
   "source": []
  },
  {
   "cell_type": "code",
   "execution_count": null,
   "id": "99242874-7c58-4de9-9b2a-3839da1926d6",
   "metadata": {},
   "outputs": [],
   "source": []
  },
  {
   "cell_type": "code",
   "execution_count": null,
   "id": "2d1328be-40ae-4e57-87ee-6aa10b0d2194",
   "metadata": {},
   "outputs": [],
   "source": []
  },
  {
   "cell_type": "code",
   "execution_count": null,
   "id": "e066aa0b-9571-4625-b7cd-54d117c40983",
   "metadata": {},
   "outputs": [],
   "source": []
  },
  {
   "cell_type": "code",
   "execution_count": null,
   "id": "943e2edb-73a0-49ea-96a4-74486f1bb50c",
   "metadata": {},
   "outputs": [],
   "source": []
  },
  {
   "cell_type": "code",
   "execution_count": null,
   "id": "7701b265-b45f-4f7b-8047-5f6b89f6beba",
   "metadata": {},
   "outputs": [],
   "source": []
  },
  {
   "cell_type": "code",
   "execution_count": null,
   "id": "a5250698-4689-4314-9360-65fbeb765438",
   "metadata": {},
   "outputs": [],
   "source": []
  },
  {
   "cell_type": "code",
   "execution_count": null,
   "id": "2b1dd109-3382-4136-9e47-2046f2fb0ebb",
   "metadata": {},
   "outputs": [],
   "source": []
  },
  {
   "cell_type": "code",
   "execution_count": null,
   "id": "dc5fa698-5968-475f-b300-679c78cc095e",
   "metadata": {},
   "outputs": [],
   "source": []
  },
  {
   "cell_type": "code",
   "execution_count": null,
   "id": "ea66209c-7f5b-4f83-a314-9fc0c1a0ab3b",
   "metadata": {},
   "outputs": [],
   "source": []
  },
  {
   "cell_type": "code",
   "execution_count": null,
   "id": "0cf3901b-a092-48db-b32b-fcf8358b82b5",
   "metadata": {},
   "outputs": [],
   "source": []
  },
  {
   "cell_type": "code",
   "execution_count": null,
   "id": "920f71f5-545b-48df-9f16-2fbeef2729e1",
   "metadata": {},
   "outputs": [],
   "source": []
  },
  {
   "cell_type": "code",
   "execution_count": null,
   "id": "c1720a99-c478-4353-97ff-be1777cb86e9",
   "metadata": {},
   "outputs": [],
   "source": []
  },
  {
   "cell_type": "code",
   "execution_count": null,
   "id": "b6af5ca2-a076-4760-bc1e-ea12aece219e",
   "metadata": {},
   "outputs": [],
   "source": []
  },
  {
   "cell_type": "code",
   "execution_count": null,
   "id": "f254fc2f-ed51-4928-b5a0-0d6d1dc69aac",
   "metadata": {},
   "outputs": [],
   "source": []
  },
  {
   "cell_type": "code",
   "execution_count": null,
   "id": "80403565-dcc4-4c44-b10a-e13f31b5f3e8",
   "metadata": {},
   "outputs": [],
   "source": []
  },
  {
   "cell_type": "code",
   "execution_count": null,
   "id": "47db8dd7-c36c-4ac5-aca6-12814914b65f",
   "metadata": {},
   "outputs": [],
   "source": []
  },
  {
   "cell_type": "code",
   "execution_count": null,
   "id": "248a7d9a-3b26-494a-9aab-efff16ebb651",
   "metadata": {},
   "outputs": [],
   "source": []
  },
  {
   "cell_type": "code",
   "execution_count": null,
   "id": "652b2cd3-0c91-4d17-b2ba-69ab26ad4fb1",
   "metadata": {},
   "outputs": [],
   "source": []
  },
  {
   "cell_type": "code",
   "execution_count": null,
   "id": "77dc51ed-57bc-4c68-89f5-49a453f5448f",
   "metadata": {},
   "outputs": [],
   "source": []
  },
  {
   "cell_type": "code",
   "execution_count": null,
   "id": "811dfcff-07a3-4bf0-a116-186b8a8d0d01",
   "metadata": {},
   "outputs": [],
   "source": []
  },
  {
   "cell_type": "code",
   "execution_count": null,
   "id": "47a717fa-bcf9-46fa-87d3-cc56241647f7",
   "metadata": {},
   "outputs": [],
   "source": []
  },
  {
   "cell_type": "code",
   "execution_count": null,
   "id": "3449897a-72cf-4af4-a96f-dbea4d653192",
   "metadata": {},
   "outputs": [],
   "source": []
  },
  {
   "cell_type": "code",
   "execution_count": null,
   "id": "539cc2a4-7aaf-42d9-ae56-b303fbe2f656",
   "metadata": {},
   "outputs": [],
   "source": []
  },
  {
   "cell_type": "code",
   "execution_count": null,
   "id": "198d03db-ea59-46bf-b027-1429e022f74e",
   "metadata": {},
   "outputs": [],
   "source": []
  },
  {
   "cell_type": "code",
   "execution_count": null,
   "id": "6f3829d9-b5ad-4e07-9edd-edac234b0788",
   "metadata": {},
   "outputs": [],
   "source": []
  }
 ],
 "metadata": {
  "kernelspec": {
   "display_name": "Python 3 (ipykernel)",
   "language": "python",
   "name": "python3"
  },
  "language_info": {
   "codemirror_mode": {
    "name": "ipython",
    "version": 3
   },
   "file_extension": ".py",
   "mimetype": "text/x-python",
   "name": "python",
   "nbconvert_exporter": "python",
   "pygments_lexer": "ipython3",
   "version": "3.13.2"
  }
 },
 "nbformat": 4,
 "nbformat_minor": 5
}
